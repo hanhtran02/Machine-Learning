{
 "cells": [
  {
   "cell_type": "markdown",
   "id": "6071244a",
   "metadata": {},
   "source": [
    "## 4: GMM better than Kmeans examples:\n",
    "- GMM can deal with arbitrarily shaped data while Kmeans can only do best with circular shaped data\n",
    "- When there is uncertainty about # of clusters and usual methods (Elbow/Silhouette) doesn't help in finding the optimal number of clusters. \n",
    "- Kmeans is hard clustering (each object belongs to only one cluster) so in case of overlapped clusters, it will do bad. >< GMM, which is a soft clustering (output: probability that an object belongs to a cluster)\n",
    "- Some cluster maybe wider than others => GMM does better with this type since it has the mixing coefficients (or weights)"
   ]
  },
  {
   "cell_type": "markdown",
   "id": "f86f97ea",
   "metadata": {},
   "source": [
    "## 3: Pros and cons of Kmeans and GMM\n",
    "- Kmeans\n",
    "    + Pros: easy to implement\n",
    "    + cons: - just work well with circular shaped data, linearlly seperable clusters \n",
    "            - assume each cluster has equal observations, \n",
    "            - speific K at the begining\n",
    "- GMM\n",
    "    + Pros: - work with several shape of data, which is comprised of mixing Gaussian distribution\n",
    "            - overlapped clusters\n",
    "            - clusters of different size\n",
    "    + cons: assume data normally distributed"
   ]
  },
  {
   "cell_type": "code",
   "execution_count": null,
   "id": "13d76e15",
   "metadata": {},
   "outputs": [],
   "source": []
  }
 ],
 "metadata": {
  "kernelspec": {
   "display_name": "Python 3 (ipykernel)",
   "language": "python",
   "name": "python3"
  },
  "language_info": {
   "codemirror_mode": {
    "name": "ipython",
    "version": 3
   },
   "file_extension": ".py",
   "mimetype": "text/x-python",
   "name": "python",
   "nbconvert_exporter": "python",
   "pygments_lexer": "ipython3",
   "version": "3.9.7"
  }
 },
 "nbformat": 4,
 "nbformat_minor": 5
}
