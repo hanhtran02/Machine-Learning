{
 "cells": [
  {
   "cell_type": "code",
   "execution_count": 30,
   "id": "37fd1905",
   "metadata": {},
   "outputs": [],
   "source": [
    "import pandas as pd \n",
    "import numpy as np\n",
    "import matplotlib.pyplot as plt\n",
    "url = 'https://raw.githubusercontent.com/nttuan8/DL_Tutorial/master/L1/data_linear.csv'"
   ]
  },
  {
   "cell_type": "code",
   "execution_count": 31,
   "id": "2118d22f",
   "metadata": {},
   "outputs": [
    {
     "data": {
      "text/html": [
       "<div>\n",
       "<style scoped>\n",
       "    .dataframe tbody tr th:only-of-type {\n",
       "        vertical-align: middle;\n",
       "    }\n",
       "\n",
       "    .dataframe tbody tr th {\n",
       "        vertical-align: top;\n",
       "    }\n",
       "\n",
       "    .dataframe thead th {\n",
       "        text-align: right;\n",
       "    }\n",
       "</style>\n",
       "<table border=\"1\" class=\"dataframe\">\n",
       "  <thead>\n",
       "    <tr style=\"text-align: right;\">\n",
       "      <th></th>\n",
       "      <th>Diện tích</th>\n",
       "      <th>Giá</th>\n",
       "    </tr>\n",
       "  </thead>\n",
       "  <tbody>\n",
       "    <tr>\n",
       "      <th>0</th>\n",
       "      <td>30.0000</td>\n",
       "      <td>448.524</td>\n",
       "    </tr>\n",
       "    <tr>\n",
       "      <th>1</th>\n",
       "      <td>32.4138</td>\n",
       "      <td>509.248</td>\n",
       "    </tr>\n",
       "    <tr>\n",
       "      <th>2</th>\n",
       "      <td>34.8276</td>\n",
       "      <td>535.104</td>\n",
       "    </tr>\n",
       "    <tr>\n",
       "      <th>3</th>\n",
       "      <td>37.2414</td>\n",
       "      <td>551.432</td>\n",
       "    </tr>\n",
       "    <tr>\n",
       "      <th>4</th>\n",
       "      <td>39.6552</td>\n",
       "      <td>623.418</td>\n",
       "    </tr>\n",
       "  </tbody>\n",
       "</table>\n",
       "</div>"
      ],
      "text/plain": [
       "   Diện tích      Giá\n",
       "0    30.0000  448.524\n",
       "1    32.4138  509.248\n",
       "2    34.8276  535.104\n",
       "3    37.2414  551.432\n",
       "4    39.6552  623.418"
      ]
     },
     "execution_count": 31,
     "metadata": {},
     "output_type": "execute_result"
    }
   ],
   "source": [
    "data = pd.read_csv(url)\n",
    "data.head()"
   ]
  },
  {
   "cell_type": "code",
   "execution_count": 32,
   "id": "ed7edb3e",
   "metadata": {},
   "outputs": [],
   "source": [
    "# diện tích \n",
    "x = np.array([data['Diện tích']]).T\n",
    "\n",
    "# Giá \n",
    "y = np.array([data['Giá']]).T"
   ]
  },
  {
   "cell_type": "code",
   "execution_count": 33,
   "id": "e52802d2",
   "metadata": {
    "scrolled": true
   },
   "outputs": [
    {
     "data": {
      "image/png": "[encoded data removed]",
      "text/plain": [
       "<Figure size 432x288 with 1 Axes>"
      ]
     },
     "metadata": {
      "needs_background": "light"
     },
     "output_type": "display_data"
    }
   ],
   "source": [
    "plt.scatter(x, y)\n",
    "plt.axis([10, 110, 300, 1700])\n",
    "plt.xlabel('Diện tích')\n",
    "plt.ylabel('Giá')\n",
    "plt.show()"
   ]
  },
  {
   "cell_type": "code",
   "execution_count": 34,
   "id": "44a40d88",
   "metadata": {},
   "outputs": [],
   "source": [
    "one = np.ones((x.shape[0], 1))\n",
    "xbar = np.concatenate((one, x), axis = 1)"
   ]
  },
  {
   "cell_type": "code",
   "execution_count": 35,
   "id": "4b67449f",
   "metadata": {},
   "outputs": [
    {
     "name": "stdout",
     "output_type": "stream",
     "text": [
      "w =  [[-7.06426865]\n",
      " [15.2110908 ]]\n"
     ]
    }
   ],
   "source": [
    "a = np.dot(xbar.T, xbar)\n",
    "b = np.dot(xbar.T, y)\n",
    "w = np.dot(np.linalg.pinv(a), b)\n",
    "print ('w = ', w)"
   ]
  },
  {
   "cell_type": "code",
   "execution_count": 36,
   "id": "6ecf14a2",
   "metadata": {},
   "outputs": [],
   "source": [
    "w_0 = w[0][0]\n",
    "w_1 = w[1][0]\n",
    "x0 = np.linspace(30, 100, 2)     #Khoảng cách từ vị trí đầu đến vị trí kết thúc và cách quãng \n",
    "y0 = w_0 + w_1*x0   "
   ]
  },
  {
   "cell_type": "code",
   "execution_count": 37,
   "id": "01cb7db5",
   "metadata": {},
   "outputs": [
    {
     "data": {
      "image/png": "[encoded data removed]",
      "text/plain": [
       "<Figure size 432x288 with 1 Axes>"
      ]
     },
     "metadata": {
      "needs_background": "light"
     },
     "output_type": "display_data"
    }
   ],
   "source": [
    "plt.plot(x.T, y.T)       #Data points \n",
    "plt.plot(x0, y0)     #fitting line \n",
    "plt.axis([10, 110, 300, 1700])\n",
    "plt.xlabel('Diện tích')\n",
    "plt.ylabel('Giá')\n",
    "plt.show()"
   ]
  },
  {
   "cell_type": "code",
   "execution_count": 38,
   "id": "d9cbc1b8",
   "metadata": {},
   "outputs": [
    {
     "name": "stdout",
     "output_type": "stream",
     "text": [
      "Predicted price of house of 50m^2 is:   753.490271338288\n",
      "\n",
      "Predicted price of house of 100m^2 is:   1514.044811321779\n",
      "\n",
      "Predicted price of house of 150m^2 is:   2274.59935130527\n"
     ]
    }
   ],
   "source": [
    "y1 = w_0 + w_1*50 \n",
    "y2 = w_0 + w_1*100 \n",
    "y3 = w_0 + w_1*150 \n",
    "\n",
    "print (\"Predicted price of house of 50m^2 is:  \", y1)\n",
    "print (\"\\nPredicted price of house of 100m^2 is:  \", y2)\n",
    "print (\"\\nPredicted price of house of 150m^2 is:  \", y3)"
   ]
  }
 ],
 "metadata": {
  "kernelspec": {
   "display_name": "Python 3 (ipykernel)",
   "language": "python",
   "name": "python3"
  },
  "language_info": {
   "codemirror_mode": {
    "name": "ipython",
    "version": 3
   },
   "file_extension": ".py",
   "mimetype": "text/x-python",
   "name": "python",
   "nbconvert_exporter": "python",
   "pygments_lexer": "ipython3",
   "version": "3.9.7"
  }
 },
 "nbformat": 4,
 "nbformat_minor": 5
}
