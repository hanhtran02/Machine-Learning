{
 "cells": [
  {
   "cell_type": "code",
   "execution_count": 1,
   "id": "7a805dab",
   "metadata": {},
   "outputs": [],
   "source": [
    "import numpy as np\n",
    "import matplotlib.pyplot as plt\n",
    "\n",
    "import pandas as pd\n",
    "from sklearn.datasets import load_iris\n",
    "\n",
    "from dataclasses import dataclass"
   ]
  },
  {
   "cell_type": "markdown",
   "id": "d4d7d340",
   "metadata": {},
   "source": [
    "## Exercise 1: Implement K-means using numpy"
   ]
  },
  {
   "cell_type": "code",
   "execution_count": 31,
   "id": "cc1efd7b",
   "metadata": {},
   "outputs": [],
   "source": [
    "@dataclass\n",
    "class KMeans:\n",
    "    k: int\n",
    "    iterations: int\n",
    "    tol: float\n",
    "    \n",
    "    def fit(self, x: np.ndarray) ->None:\n",
    "        \"Clustering the data\"\n",
    "        \n",
    "        num_samples, _ = x.shape\n",
    "        \n",
    "        # initial centroid and their closets\n",
    "        self.centroids = x[np.random.choice(num_samples, size=self.k, replace=False)]\n",
    "        self.closet = np.zeros(num_samples)\n",
    "        self.inertia = np.zeros(self.k)\n",
    "        for _ in range(self.iterations):\n",
    "            old_closet = self.closet.copy()  # current closet values\n",
    "            # distance between sample to each centroid\n",
    "            distances = [np.linalg.norm(self.centroids - feature, axis=1) for feature in x] # n_samples*k dim\n",
    "            self.closet = np.argmin(distances, axis=1) # find the index of the closet centroid in k centroid, n_samples d\n",
    "            \n",
    "            # update the centroid\n",
    "            for idx in range(self.k):\n",
    "                self.centroids[idx] = (x[self.closet == idx]).mean(axis=0)\n",
    "            \n",
    "            # if distance between old closets and new closets < tol:\n",
    "            if np.linalg.norm(self.closet - old_closet) < self.tol:\n",
    "                break\n",
    "#             if np.array_equal(self.closet, old_closet):\n",
    "#                 break    \n",
    "#         for idx in range(self.k):\n",
    "            \n",
    "#             self.inertia[idx] = np.linalg.norm(self.centroids[idx] - feature, axis=0) for feature in x[self.closet == idx]"
   ]
  },
  {
   "cell_type": "code",
   "execution_count": null,
   "id": "21472de1",
   "metadata": {},
   "outputs": [],
   "source": [
    "# Testing\n",
    "\n",
    "np.random.seed(8)\n",
    "plt.style.use('bmh')\n",
    "features = np.random.rand(1000, 2)\n",
    "\n",
    "kmeans = KMeans(k=8, iterations=16, tol=1e-4)\n",
    "kmeans.fit(features)\n",
    "\n",
    "fig, axs = plt.subplots(nrows=1, ncols=2, figsize=(14,7))\n",
    "# fig.suptitle('Before and after clustering', fontsize=24)\n",
    "axs[0].scatter(features[:, 0], features[:, 1])\n",
    "axs[0].set_title('Before clustering', fontsize=20)\n",
    "\n",
    "axs[1].scatter(features[:, 0], features[:, 1], c=kmeans.closet)\n",
    "axs[1].set_title('After clustering', fontsize=20)\n",
    "\n",
    "plt.show()"
   ]
  },
  {
   "cell_type": "markdown",
   "id": "1ec9e585",
   "metadata": {},
   "source": [
    "## Exercise 2: Apply kmeans on at least 3 toy dataset. Try different # clusters"
   ]
  },
  {
   "cell_type": "markdown",
   "id": "9e24f75c",
   "metadata": {},
   "source": [
    "### Iris dataset"
   ]
  },
  {
   "cell_type": "code",
   "execution_count": 15,
   "id": "fbaf5708",
   "metadata": {},
   "outputs": [],
   "source": [
    "iris = load_iris()"
   ]
  },
  {
   "cell_type": "markdown",
   "id": "8f9ae4ef",
   "metadata": {},
   "source": [
    " #### k=2"
   ]
  },
  {
   "cell_type": "code",
   "execution_count": 32,
   "id": "11d3207c",
   "metadata": {},
   "outputs": [
    {
     "name": "stdout",
     "output_type": "stream",
     "text": [
      "[[5.00566038 3.36981132 1.56037736 0.29056604]\n",
      " [6.30103093 2.88659794 4.95876289 1.69587629]]\n",
      "[0 0 0 0 0 0 0 0 0 0 0 0 0 0 0 0 0 0 0 0 0 0 0 0 0 0 0 0 0 0 0 0 0 0 0 0 0\n",
      " 0 0 0 0 0 0 0 0 0 0 0 0 0 1 1 1 1 1 1 1 0 1 1 1 1 1 1 1 1 1 1 1 1 1 1 1 1\n",
      " 1 1 1 1 1 1 1 1 1 1 1 1 1 1 1 1 1 1 1 0 1 1 1 1 0 1 1 1 1 1 1 1 1 1 1 1 1\n",
      " 1 1 1 1 1 1 1 1 1 1 1 1 1 1 1 1 1 1 1 1 1 1 1 1 1 1 1 1 1 1 1 1 1 1 1 1 1\n",
      " 1 1]\n"
     ]
    }
   ],
   "source": [
    "kmeans = KMeans(k=2, iterations=16, tol=1e-4)\n",
    "kmeans.fit(iris.data)\n",
    "print(kmeans.centroids)\n",
    "print(kmeans.closet)"
   ]
  },
  {
   "cell_type": "markdown",
   "id": "3e4e3731",
   "metadata": {},
   "source": [
    "#### k=3"
   ]
  },
  {
   "cell_type": "code",
   "execution_count": 5,
   "id": "3f4c43cd",
   "metadata": {},
   "outputs": [
    {
     "name": "stdout",
     "output_type": "stream",
     "text": [
      "[[5.88360656 2.74098361 4.38852459 1.43442623]\n",
      " [6.85384615 3.07692308 5.71538462 2.05384615]\n",
      " [5.006      3.428      1.462      0.246     ]]\n",
      "[2 2 2 2 2 2 2 2 2 2 2 2 2 2 2 2 2 2 2 2 2 2 2 2 2 2 2 2 2 2 2 2 2 2 2 2 2\n",
      " 2 2 2 2 2 2 2 2 2 2 2 2 2 1 0 1 0 0 0 0 0 0 0 0 0 0 0 0 0 0 0 0 0 0 0 0 0\n",
      " 0 0 0 1 0 0 0 0 0 0 0 0 0 0 0 0 0 0 0 0 0 0 0 0 0 0 1 0 1 1 1 1 0 1 1 1 1\n",
      " 1 1 0 0 1 1 1 1 0 1 0 1 0 1 1 0 0 1 1 1 1 1 0 1 1 1 1 0 1 1 1 0 1 1 1 0 1\n",
      " 1 0]\n"
     ]
    }
   ],
   "source": [
    "kmeans = KMeans(k=3, iterations=16, tol=1e-4)\n",
    "kmeans.fit(iris.data)\n",
    "print(kmeans.centroids)\n",
    "print(kmeans.closet)"
   ]
  },
  {
   "cell_type": "code",
   "execution_count": 10,
   "id": "16051e26",
   "metadata": {
    "collapsed": true
   },
   "outputs": [
    {
     "data": {
      "text/plain": [
       "array([0, 0, 0, 0, 0, 0, 0, 0, 0, 0, 0, 0, 0, 0, 0, 0, 0, 0, 0, 0, 0, 0,\n",
       "       0, 0, 0, 0, 0, 0, 0, 0, 0, 0, 0, 0, 0, 0, 0, 0, 0, 0, 0, 0, 0, 0,\n",
       "       0, 0, 0, 0, 0, 0, 1, 1, 1, 1, 1, 1, 1, 1, 1, 1, 1, 1, 1, 1, 1, 1,\n",
       "       1, 1, 1, 1, 1, 1, 1, 1, 1, 1, 1, 1, 1, 1, 1, 1, 1, 1, 1, 1, 1, 1,\n",
       "       1, 1, 1, 1, 1, 1, 1, 1, 1, 1, 1, 1, 2, 2, 2, 2, 2, 2, 2, 2, 2, 2,\n",
       "       2, 2, 2, 2, 2, 2, 2, 2, 2, 2, 2, 2, 2, 2, 2, 2, 2, 2, 2, 2, 2, 2,\n",
       "       2, 2, 2, 2, 2, 2, 2, 2, 2, 2, 2, 2, 2, 2, 2, 2, 2, 2])"
      ]
     },
     "execution_count": 10,
     "metadata": {},
     "output_type": "execute_result"
    }
   ],
   "source": [
    "iris.target"
   ]
  },
  {
   "cell_type": "markdown",
   "id": "749441c3",
   "metadata": {},
   "source": [
    "#### k=4"
   ]
  },
  {
   "cell_type": "code",
   "execution_count": 11,
   "id": "e163a0fc",
   "metadata": {},
   "outputs": [
    {
     "name": "stdout",
     "output_type": "stream",
     "text": [
      "[[5.006      3.428      1.462      0.246     ]\n",
      " [5.58       2.63333333 3.98666667 1.23333333]\n",
      " [7.08695652 3.12608696 6.01304348 2.14347826]\n",
      " [6.29361702 2.9        4.95106383 1.72978723]]\n",
      "[0 0 0 0 0 0 0 0 0 0 0 0 0 0 0 0 0 0 0 0 0 0 0 0 0 0 0 0 0 0 0 0 0 0 0 0 0\n",
      " 0 0 0 0 0 0 0 0 0 0 0 0 0 3 3 3 1 3 1 3 1 3 1 1 1 1 3 1 3 1 1 3 1 3 1 3 3\n",
      " 3 3 3 3 3 1 1 1 1 3 1 3 3 1 1 1 1 3 1 1 1 1 1 1 1 1 2 3 2 3 2 2 1 2 2 2 3\n",
      " 3 2 3 3 3 3 2 2 3 2 3 2 3 2 2 3 3 3 2 2 2 3 3 3 2 2 3 3 2 2 3 3 2 2 3 3 3\n",
      " 3 3]\n"
     ]
    }
   ],
   "source": [
    "kmeans = KMeans(k=4, iterations=16, tol=1e-4)\n",
    "kmeans.fit(iris.data)\n",
    "print(kmeans.centroids)\n",
    "print(kmeans.closet)"
   ]
  },
  {
   "cell_type": "markdown",
   "id": "34da1fae",
   "metadata": {},
   "source": [
    "#### k=5"
   ]
  },
  {
   "cell_type": "code",
   "execution_count": 13,
   "id": "410b936d",
   "metadata": {},
   "outputs": [
    {
     "name": "stdout",
     "output_type": "stream",
     "text": [
      "[[7.12272727 3.11363636 6.03181818 2.13181818]\n",
      " [6.42380952 2.91904762 4.6047619  1.43809524]\n",
      " [6.19655172 2.88275862 5.18275862 1.93448276]\n",
      " [5.53214286 2.63571429 3.96071429 1.22857143]\n",
      " [5.006      3.428      1.462      0.246     ]]\n",
      "[4 4 4 4 4 4 4 4 4 4 4 4 4 4 4 4 4 4 4 4 4 4 4 4 4 4 4 4 4 4 4 4 4 4 4 4 4\n",
      " 4 4 4 4 4 4 4 4 4 4 4 4 4 1 1 1 3 1 3 1 3 1 3 3 3 3 1 3 1 3 3 1 3 2 3 1 1\n",
      " 1 1 1 1 1 3 3 3 3 2 3 1 1 1 3 3 3 1 3 3 3 3 3 1 3 3 0 2 0 2 0 0 3 0 0 0 2\n",
      " 2 0 2 2 2 2 0 0 2 0 2 0 2 0 0 2 2 2 0 0 0 2 2 2 0 2 2 2 0 0 2 2 0 0 2 2 2\n",
      " 2 2]\n"
     ]
    }
   ],
   "source": [
    "kmeans = KMeans(k=5, iterations=16, tol=1e-4)\n",
    "kmeans.fit(iris.data)\n",
    "print(kmeans.centroids)\n",
    "print(kmeans.closet)"
   ]
  },
  {
   "cell_type": "markdown",
   "id": "acc3abe0",
   "metadata": {},
   "source": [
    "## Exercise 3"
   ]
  },
  {
   "cell_type": "code",
   "execution_count": null,
   "id": "61cac407",
   "metadata": {},
   "outputs": [],
   "source": [
    "x = iris.data\n",
    "sum_of_squared_distances = []\n",
    "k = range(1,10)\n",
    "for num_clusters in k :\n",
    "    kmeans = KMeans(k=num_clusters)\n",
    "    kmeans.fit(x)\n",
    "    sum_of_squared_distances.append(kmeans.inertia_)\n",
    "plt.plot(k,sum_of_squared_distances,’bx-’)\n",
    "plt.xlabel(‘Values of K’) \n",
    "plt.ylabel(‘Sum of squared distances/Inertia’) \n",
    "plt.title(‘Elbow Method For Optimal k’)\n",
    "plt.show()"
   ]
  }
 ],
 "metadata": {
  "kernelspec": {
   "display_name": "Python 3 (ipykernel)",
   "language": "python",
   "name": "python3"
  },
  "language_info": {
   "codemirror_mode": {
    "name": "ipython",
    "version": 3
   },
   "file_extension": ".py",
   "mimetype": "text/x-python",
   "name": "python",
   "nbconvert_exporter": "python",
   "pygments_lexer": "ipython3",
   "version": "3.9.7"
  }
 },
 "nbformat": 4,
 "nbformat_minor": 5
}
